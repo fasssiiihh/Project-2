{
 "cells": [
  {
   "cell_type": "code",
   "execution_count": 1,
   "id": "b7b81381",
   "metadata": {},
   "outputs": [],
   "source": [
    "import warnings\n",
    "warnings.filterwarnings(\"ignore\");"
   ]
  },
  {
   "cell_type": "code",
   "execution_count": 2,
   "id": "e7b9e6d6",
   "metadata": {},
   "outputs": [],
   "source": [
    "import pandas as pd"
   ]
  },
  {
   "cell_type": "code",
   "execution_count": 3,
   "id": "01c5d6bb",
   "metadata": {},
   "outputs": [
    {
     "data": {
      "text/html": [
       "<div>\n",
       "<style scoped>\n",
       "    .dataframe tbody tr th:only-of-type {\n",
       "        vertical-align: middle;\n",
       "    }\n",
       "\n",
       "    .dataframe tbody tr th {\n",
       "        vertical-align: top;\n",
       "    }\n",
       "\n",
       "    .dataframe thead th {\n",
       "        text-align: right;\n",
       "    }\n",
       "</style>\n",
       "<table border=\"1\" class=\"dataframe\">\n",
       "  <thead>\n",
       "    <tr style=\"text-align: right;\">\n",
       "      <th></th>\n",
       "      <th>reviewId</th>\n",
       "      <th>userName</th>\n",
       "      <th>userImage</th>\n",
       "      <th>content</th>\n",
       "      <th>score</th>\n",
       "      <th>thumbsUpCount</th>\n",
       "      <th>reviewCreatedVersion</th>\n",
       "      <th>at</th>\n",
       "      <th>replyContent</th>\n",
       "      <th>repliedAt</th>\n",
       "      <th>sortOrder</th>\n",
       "      <th>appId</th>\n",
       "    </tr>\n",
       "  </thead>\n",
       "  <tbody>\n",
       "    <tr>\n",
       "      <th>0</th>\n",
       "      <td>gp:AOqpTOEhZuqSqqWnaKRgv-9ABYdajFUB0WugPGh-SG-...</td>\n",
       "      <td>Eric Tie</td>\n",
       "      <td>https://play-lh.googleusercontent.com/a-/AOh14...</td>\n",
       "      <td>I cannot open the app anymore</td>\n",
       "      <td>1</td>\n",
       "      <td>0</td>\n",
       "      <td>5.4.0.6</td>\n",
       "      <td>2020-10-27 21:24:41</td>\n",
       "      <td>NaN</td>\n",
       "      <td>NaN</td>\n",
       "      <td>newest</td>\n",
       "      <td>com.anydo</td>\n",
       "    </tr>\n",
       "    <tr>\n",
       "      <th>1</th>\n",
       "      <td>gp:AOqpTOH0WP4IQKBZ2LrdNmFy_YmpPCVrV3diEU9KGm3...</td>\n",
       "      <td>john alpha</td>\n",
       "      <td>https://play-lh.googleusercontent.com/a-/AOh14...</td>\n",
       "      <td>I have been begging for a refund from this app...</td>\n",
       "      <td>1</td>\n",
       "      <td>0</td>\n",
       "      <td>NaN</td>\n",
       "      <td>2020-10-27 14:03:28</td>\n",
       "      <td>Please note that from checking our records, yo...</td>\n",
       "      <td>2020-10-27 15:05:52</td>\n",
       "      <td>newest</td>\n",
       "      <td>com.anydo</td>\n",
       "    </tr>\n",
       "    <tr>\n",
       "      <th>2</th>\n",
       "      <td>gp:AOqpTOEMCkJB8Iq1p-r9dPwnSYadA5BkPWTf32Z1azu...</td>\n",
       "      <td>Sudhakar .S</td>\n",
       "      <td>https://play-lh.googleusercontent.com/a-/AOh14...</td>\n",
       "      <td>Very costly for the premium version (approx In...</td>\n",
       "      <td>1</td>\n",
       "      <td>0</td>\n",
       "      <td>NaN</td>\n",
       "      <td>2020-10-27 08:18:40</td>\n",
       "      <td>NaN</td>\n",
       "      <td>NaN</td>\n",
       "      <td>newest</td>\n",
       "      <td>com.anydo</td>\n",
       "    </tr>\n",
       "    <tr>\n",
       "      <th>3</th>\n",
       "      <td>gp:AOqpTOGFrUWuKGycpje8kszj3uwHN6tU_fd4gLVFy9z...</td>\n",
       "      <td>SKGflorida@bellsouth.net DAVID S</td>\n",
       "      <td>https://play-lh.googleusercontent.com/-75aK0WF...</td>\n",
       "      <td>Used to keep me organized, but all the 2020 UP...</td>\n",
       "      <td>1</td>\n",
       "      <td>0</td>\n",
       "      <td>NaN</td>\n",
       "      <td>2020-10-26 13:28:07</td>\n",
       "      <td>What do you find troublesome about the update?...</td>\n",
       "      <td>2020-10-26 14:58:29</td>\n",
       "      <td>newest</td>\n",
       "      <td>com.anydo</td>\n",
       "    </tr>\n",
       "    <tr>\n",
       "      <th>4</th>\n",
       "      <td>gp:AOqpTOHls7DW8wmDFzTkHwxuqFkdNQtKHmO6Pt9jhZE...</td>\n",
       "      <td>Louann Stoker</td>\n",
       "      <td>https://play-lh.googleusercontent.com/-pBcY_Z-...</td>\n",
       "      <td>Dan Birthday Oct 28</td>\n",
       "      <td>1</td>\n",
       "      <td>0</td>\n",
       "      <td>5.6.0.7</td>\n",
       "      <td>2020-10-26 06:10:50</td>\n",
       "      <td>NaN</td>\n",
       "      <td>NaN</td>\n",
       "      <td>newest</td>\n",
       "      <td>com.anydo</td>\n",
       "    </tr>\n",
       "  </tbody>\n",
       "</table>\n",
       "</div>"
      ],
      "text/plain": [
       "                                            reviewId  \\\n",
       "0  gp:AOqpTOEhZuqSqqWnaKRgv-9ABYdajFUB0WugPGh-SG-...   \n",
       "1  gp:AOqpTOH0WP4IQKBZ2LrdNmFy_YmpPCVrV3diEU9KGm3...   \n",
       "2  gp:AOqpTOEMCkJB8Iq1p-r9dPwnSYadA5BkPWTf32Z1azu...   \n",
       "3  gp:AOqpTOGFrUWuKGycpje8kszj3uwHN6tU_fd4gLVFy9z...   \n",
       "4  gp:AOqpTOHls7DW8wmDFzTkHwxuqFkdNQtKHmO6Pt9jhZE...   \n",
       "\n",
       "                           userName  \\\n",
       "0                          Eric Tie   \n",
       "1                        john alpha   \n",
       "2                       Sudhakar .S   \n",
       "3  SKGflorida@bellsouth.net DAVID S   \n",
       "4                     Louann Stoker   \n",
       "\n",
       "                                           userImage  \\\n",
       "0  https://play-lh.googleusercontent.com/a-/AOh14...   \n",
       "1  https://play-lh.googleusercontent.com/a-/AOh14...   \n",
       "2  https://play-lh.googleusercontent.com/a-/AOh14...   \n",
       "3  https://play-lh.googleusercontent.com/-75aK0WF...   \n",
       "4  https://play-lh.googleusercontent.com/-pBcY_Z-...   \n",
       "\n",
       "                                             content  score  thumbsUpCount  \\\n",
       "0                      I cannot open the app anymore      1              0   \n",
       "1  I have been begging for a refund from this app...      1              0   \n",
       "2  Very costly for the premium version (approx In...      1              0   \n",
       "3  Used to keep me organized, but all the 2020 UP...      1              0   \n",
       "4                                Dan Birthday Oct 28      1              0   \n",
       "\n",
       "  reviewCreatedVersion                   at  \\\n",
       "0              5.4.0.6  2020-10-27 21:24:41   \n",
       "1                  NaN  2020-10-27 14:03:28   \n",
       "2                  NaN  2020-10-27 08:18:40   \n",
       "3                  NaN  2020-10-26 13:28:07   \n",
       "4              5.6.0.7  2020-10-26 06:10:50   \n",
       "\n",
       "                                        replyContent            repliedAt  \\\n",
       "0                                                NaN                  NaN   \n",
       "1  Please note that from checking our records, yo...  2020-10-27 15:05:52   \n",
       "2                                                NaN                  NaN   \n",
       "3  What do you find troublesome about the update?...  2020-10-26 14:58:29   \n",
       "4                                                NaN                  NaN   \n",
       "\n",
       "  sortOrder      appId  \n",
       "0    newest  com.anydo  \n",
       "1    newest  com.anydo  \n",
       "2    newest  com.anydo  \n",
       "3    newest  com.anydo  \n",
       "4    newest  com.anydo  "
      ]
     },
     "execution_count": 3,
     "metadata": {},
     "output_type": "execute_result"
    }
   ],
   "source": [
    "PS_reviews_data = pd.read_csv('reviews.csv')\n",
    "PS_reviews_data.head()"
   ]
  },
  {
   "cell_type": "code",
   "execution_count": 4,
   "id": "ad87454a",
   "metadata": {},
   "outputs": [
    {
     "data": {
      "text/html": [
       "<div>\n",
       "<style scoped>\n",
       "    .dataframe tbody tr th:only-of-type {\n",
       "        vertical-align: middle;\n",
       "    }\n",
       "\n",
       "    .dataframe tbody tr th {\n",
       "        vertical-align: top;\n",
       "    }\n",
       "\n",
       "    .dataframe thead th {\n",
       "        text-align: right;\n",
       "    }\n",
       "</style>\n",
       "<table border=\"1\" class=\"dataframe\">\n",
       "  <thead>\n",
       "    <tr style=\"text-align: right;\">\n",
       "      <th></th>\n",
       "      <th>content</th>\n",
       "      <th>score</th>\n",
       "    </tr>\n",
       "  </thead>\n",
       "  <tbody>\n",
       "    <tr>\n",
       "      <th>0</th>\n",
       "      <td>I cannot open the app anymore</td>\n",
       "      <td>1</td>\n",
       "    </tr>\n",
       "    <tr>\n",
       "      <th>1</th>\n",
       "      <td>I have been begging for a refund from this app...</td>\n",
       "      <td>1</td>\n",
       "    </tr>\n",
       "    <tr>\n",
       "      <th>2</th>\n",
       "      <td>Very costly for the premium version (approx In...</td>\n",
       "      <td>1</td>\n",
       "    </tr>\n",
       "    <tr>\n",
       "      <th>3</th>\n",
       "      <td>Used to keep me organized, but all the 2020 UP...</td>\n",
       "      <td>1</td>\n",
       "    </tr>\n",
       "    <tr>\n",
       "      <th>4</th>\n",
       "      <td>Dan Birthday Oct 28</td>\n",
       "      <td>1</td>\n",
       "    </tr>\n",
       "  </tbody>\n",
       "</table>\n",
       "</div>"
      ],
      "text/plain": [
       "                                             content  score\n",
       "0                      I cannot open the app anymore      1\n",
       "1  I have been begging for a refund from this app...      1\n",
       "2  Very costly for the premium version (approx In...      1\n",
       "3  Used to keep me organized, but all the 2020 UP...      1\n",
       "4                                Dan Birthday Oct 28      1"
      ]
     },
     "execution_count": 4,
     "metadata": {},
     "output_type": "execute_result"
    }
   ],
   "source": [
    "PS_reviews_data = PS_reviews_data[['content','score']]\n",
    "PS_reviews_data.head()"
   ]
  },
  {
   "cell_type": "code",
   "execution_count": 5,
   "id": "d4b44efd",
   "metadata": {},
   "outputs": [
    {
     "data": {
      "text/plain": [
       "content    0\n",
       "score      0\n",
       "dtype: int64"
      ]
     },
     "execution_count": 5,
     "metadata": {},
     "output_type": "execute_result"
    }
   ],
   "source": [
    "PS_reviews_data.isnull().sum()"
   ]
  },
  {
   "cell_type": "code",
   "execution_count": 6,
   "id": "d2a80613",
   "metadata": {},
   "outputs": [],
   "source": [
    "import seaborn as sns"
   ]
  },
  {
   "cell_type": "code",
   "execution_count": 7,
   "id": "495022ac",
   "metadata": {},
   "outputs": [
    {
     "data": {
      "text/plain": [
       "<AxesSubplot:ylabel='score'>"
      ]
     },
     "execution_count": 7,
     "metadata": {},
     "output_type": "execute_result"
    },
    {
     "data": {
      "image/png": "[encoded data removed]",
      "text/plain": [
       "<Figure size 432x288 with 1 Axes>"
      ]
     },
     "metadata": {
      "needs_background": "light"
     },
     "output_type": "display_data"
    }
   ],
   "source": [
    "sns.barplot(x=PS_reviews_data.score.value_counts().index,y=PS_reviews_data.score.value_counts())"
   ]
  },
  {
   "cell_type": "code",
   "execution_count": 8,
   "id": "27fda427",
   "metadata": {},
   "outputs": [
    {
     "name": "stderr",
     "output_type": "stream",
     "text": [
      "[nltk_data] Downloading package vader_lexicon to\n",
      "[nltk_data]     C:\\Users\\Fasssiiihh\\AppData\\Roaming\\nltk_data...\n"
     ]
    },
    {
     "data": {
      "text/plain": [
       "True"
      ]
     },
     "execution_count": 8,
     "metadata": {},
     "output_type": "execute_result"
    }
   ],
   "source": [
    "import nltk\n",
    "nltk.download('vader_lexicon')"
   ]
  },
  {
   "cell_type": "code",
   "execution_count": 9,
   "id": "ff70f7ae",
   "metadata": {},
   "outputs": [],
   "source": [
    "from nltk.sentiment.vader import SentimentIntensityAnalyzer as SIA"
   ]
  },
  {
   "cell_type": "code",
   "execution_count": 11,
   "id": "dbf263ab",
   "metadata": {},
   "outputs": [],
   "source": [
    "def analyze_sentiment(data):\n",
    "    analysis = SIA().polarity_scores(data)\n",
    "    if analysis['compound'] > 0:    # Converting rating 3 with positive sentiment as group 1\n",
    "        return 'Positive'\n",
    "    elif analysis['compound'] == 0: # Converting rating 3 with neutral sentiment as group to drop\n",
    "        return 'Neutral'\n",
    "    else:                           # Converting rating 3 with negative sentiment as group 0\n",
    "        return 'Negative'"
   ]
  },
  {
   "cell_type": "code",
   "execution_count": 12,
   "id": "77f1423c",
   "metadata": {},
   "outputs": [],
   "source": [
    "PS_reviews_data['sentiment_neutral_ratings'] = PS_reviews_data[PS_reviews_data.score == 3].content.apply(analyze_sentiment)"
   ]
  },
  {
   "cell_type": "code",
   "execution_count": 13,
   "id": "f29270b6",
   "metadata": {},
   "outputs": [
    {
     "data": {
      "text/html": [
       "<div>\n",
       "<style scoped>\n",
       "    .dataframe tbody tr th:only-of-type {\n",
       "        vertical-align: middle;\n",
       "    }\n",
       "\n",
       "    .dataframe tbody tr th {\n",
       "        vertical-align: top;\n",
       "    }\n",
       "\n",
       "    .dataframe thead th {\n",
       "        text-align: right;\n",
       "    }\n",
       "</style>\n",
       "<table border=\"1\" class=\"dataframe\">\n",
       "  <thead>\n",
       "    <tr style=\"text-align: right;\">\n",
       "      <th></th>\n",
       "      <th>content</th>\n",
       "      <th>score</th>\n",
       "      <th>sentiment_neutral_ratings</th>\n",
       "    </tr>\n",
       "  </thead>\n",
       "  <tbody>\n",
       "    <tr>\n",
       "      <th>400</th>\n",
       "      <td>This still works pretty well, but I'm not a fa...</td>\n",
       "      <td>3</td>\n",
       "      <td>Positive</td>\n",
       "    </tr>\n",
       "    <tr>\n",
       "      <th>401</th>\n",
       "      <td>Good app. Annoying pop up every morning on my ...</td>\n",
       "      <td>3</td>\n",
       "      <td>Positive</td>\n",
       "    </tr>\n",
       "    <tr>\n",
       "      <th>402</th>\n",
       "      <td>I haven't used they made an effort from there ...</td>\n",
       "      <td>3</td>\n",
       "      <td>Negative</td>\n",
       "    </tr>\n",
       "    <tr>\n",
       "      <th>403</th>\n",
       "      <td>29.9. Nothing new, I've already reconciled to ...</td>\n",
       "      <td>3</td>\n",
       "      <td>Positive</td>\n",
       "    </tr>\n",
       "    <tr>\n",
       "      <th>404</th>\n",
       "      <td>I've been a satisfied user of Any.do since Mar...</td>\n",
       "      <td>3</td>\n",
       "      <td>Positive</td>\n",
       "    </tr>\n",
       "  </tbody>\n",
       "</table>\n",
       "</div>"
      ],
      "text/plain": [
       "                                               content  score  \\\n",
       "400  This still works pretty well, but I'm not a fa...      3   \n",
       "401  Good app. Annoying pop up every morning on my ...      3   \n",
       "402  I haven't used they made an effort from there ...      3   \n",
       "403  29.9. Nothing new, I've already reconciled to ...      3   \n",
       "404  I've been a satisfied user of Any.do since Mar...      3   \n",
       "\n",
       "    sentiment_neutral_ratings  \n",
       "400                  Positive  \n",
       "401                  Positive  \n",
       "402                  Negative  \n",
       "403                  Positive  \n",
       "404                  Positive  "
      ]
     },
     "execution_count": 13,
     "metadata": {},
     "output_type": "execute_result"
    }
   ],
   "source": [
    "PS_reviews_data[PS_reviews_data.score == 3].head()"
   ]
  },
  {
   "cell_type": "code",
   "execution_count": 14,
   "id": "99822548",
   "metadata": {},
   "outputs": [
    {
     "data": {
      "text/html": [
       "<div>\n",
       "<style scoped>\n",
       "    .dataframe tbody tr th:only-of-type {\n",
       "        vertical-align: middle;\n",
       "    }\n",
       "\n",
       "    .dataframe tbody tr th {\n",
       "        vertical-align: top;\n",
       "    }\n",
       "\n",
       "    .dataframe thead th {\n",
       "        text-align: right;\n",
       "    }\n",
       "</style>\n",
       "<table border=\"1\" class=\"dataframe\">\n",
       "  <thead>\n",
       "    <tr style=\"text-align: right;\">\n",
       "      <th></th>\n",
       "      <th>content</th>\n",
       "      <th>score</th>\n",
       "      <th>sentiment_neutral_ratings</th>\n",
       "    </tr>\n",
       "  </thead>\n",
       "  <tbody>\n",
       "    <tr>\n",
       "      <th>426</th>\n",
       "      <td>Too many options and gets too fancy for an app...</td>\n",
       "      <td>3</td>\n",
       "      <td>Neutral</td>\n",
       "    </tr>\n",
       "    <tr>\n",
       "      <th>429</th>\n",
       "      <td>Way too expensive; if there was a monthly opti...</td>\n",
       "      <td>3</td>\n",
       "      <td>Neutral</td>\n",
       "    </tr>\n",
       "    <tr>\n",
       "      <th>438</th>\n",
       "      <td>Hyyy</td>\n",
       "      <td>3</td>\n",
       "      <td>Neutral</td>\n",
       "    </tr>\n",
       "    <tr>\n",
       "      <th>441</th>\n",
       "      <td>Don't know</td>\n",
       "      <td>3</td>\n",
       "      <td>Neutral</td>\n",
       "    </tr>\n",
       "    <tr>\n",
       "      <th>445</th>\n",
       "      <td>We need a monthly payment terms. Currently it ...</td>\n",
       "      <td>3</td>\n",
       "      <td>Neutral</td>\n",
       "    </tr>\n",
       "  </tbody>\n",
       "</table>\n",
       "</div>"
      ],
      "text/plain": [
       "                                               content  score  \\\n",
       "426  Too many options and gets too fancy for an app...      3   \n",
       "429  Way too expensive; if there was a monthly opti...      3   \n",
       "438                                               Hyyy      3   \n",
       "441                                         Don't know      3   \n",
       "445  We need a monthly payment terms. Currently it ...      3   \n",
       "\n",
       "    sentiment_neutral_ratings  \n",
       "426                   Neutral  \n",
       "429                   Neutral  \n",
       "438                   Neutral  \n",
       "441                   Neutral  \n",
       "445                   Neutral  "
      ]
     },
     "execution_count": 14,
     "metadata": {},
     "output_type": "execute_result"
    }
   ],
   "source": [
    "PS_reviews_data[PS_reviews_data.sentiment_neutral_ratings == 'Neutral'].head() # Drop these records"
   ]
  },
  {
   "cell_type": "code",
   "execution_count": 15,
   "id": "497a032a",
   "metadata": {},
   "outputs": [],
   "source": [
    "PS_reviews_data = PS_reviews_data[PS_reviews_data.sentiment_neutral_ratings != 'Neutral'] # Discarding neutral records"
   ]
  },
  {
   "cell_type": "code",
   "execution_count": 26,
   "id": "fc6a6578",
   "metadata": {},
   "outputs": [],
   "source": [
    "def rating_seg(df):\n",
    "    score_ = 0\n",
    "    if df['score'] <= 2:\n",
    "        score_ = 0\n",
    "    elif df['score'] == 3:\n",
    "        if df['sentiment_neutral_ratings'] == 'Positive':\n",
    "            score_ = 0\n",
    "        else:\n",
    "            score_ = 1\n",
    "    else:\n",
    "         score_ = 1\n",
    "    return score_"
   ]
  },
  {
   "cell_type": "code",
   "execution_count": 27,
   "id": "5e046189",
   "metadata": {},
   "outputs": [
    {
     "data": {
      "text/html": [
       "<div>\n",
       "<style scoped>\n",
       "    .dataframe tbody tr th:only-of-type {\n",
       "        vertical-align: middle;\n",
       "    }\n",
       "\n",
       "    .dataframe tbody tr th {\n",
       "        vertical-align: top;\n",
       "    }\n",
       "\n",
       "    .dataframe thead th {\n",
       "        text-align: right;\n",
       "    }\n",
       "</style>\n",
       "<table border=\"1\" class=\"dataframe\">\n",
       "  <thead>\n",
       "    <tr style=\"text-align: right;\">\n",
       "      <th></th>\n",
       "      <th>score</th>\n",
       "      <th>new_score</th>\n",
       "    </tr>\n",
       "  </thead>\n",
       "  <tbody>\n",
       "    <tr>\n",
       "      <th>223</th>\n",
       "      <td>2</td>\n",
       "      <td>0</td>\n",
       "    </tr>\n",
       "    <tr>\n",
       "      <th>5307</th>\n",
       "      <td>4</td>\n",
       "      <td>1</td>\n",
       "    </tr>\n",
       "    <tr>\n",
       "      <th>994</th>\n",
       "      <td>1</td>\n",
       "      <td>0</td>\n",
       "    </tr>\n",
       "    <tr>\n",
       "      <th>1744</th>\n",
       "      <td>5</td>\n",
       "      <td>1</td>\n",
       "    </tr>\n",
       "    <tr>\n",
       "      <th>11323</th>\n",
       "      <td>4</td>\n",
       "      <td>1</td>\n",
       "    </tr>\n",
       "  </tbody>\n",
       "</table>\n",
       "</div>"
      ],
      "text/plain": [
       "       score  new_score\n",
       "223        2          0\n",
       "5307       4          1\n",
       "994        1          0\n",
       "1744       5          1\n",
       "11323      4          1"
      ]
     },
     "execution_count": 27,
     "metadata": {},
     "output_type": "execute_result"
    }
   ],
   "source": [
    "PS_reviews_data['new_score'] = PS_reviews_data.apply(rating_seg, axis=1)\n",
    "PS_reviews_data[['score','new_score']].sample(frac=1.0).head() # verifying data"
   ]
  },
  {
   "cell_type": "code",
   "execution_count": 28,
   "id": "2ec5b666",
   "metadata": {},
   "outputs": [],
   "source": [
    "PS_reviews_data.drop(['sentiment_neutral_ratings'],inplace=True,axis=1)"
   ]
  },
  {
   "cell_type": "code",
   "execution_count": 29,
   "id": "5757fa18",
   "metadata": {},
   "outputs": [
    {
     "data": {
      "text/plain": [
       "content      0\n",
       "score        0\n",
       "new_score    0\n",
       "dtype: int64"
      ]
     },
     "execution_count": 29,
     "metadata": {},
     "output_type": "execute_result"
    }
   ],
   "source": [
    "## 1. Replacing/Dropping NULL values\n",
    "PS_reviews_data.isnull().sum()\n",
    "# Since our data has no null values will be skip this step"
   ]
  },
  {
   "cell_type": "code",
   "execution_count": 30,
   "id": "bd7a4d2d",
   "metadata": {},
   "outputs": [
    {
     "data": {
      "text/plain": [
       "0                        I cannot open the app anymore\n",
       "1    I have been begging for a refund from this app...\n",
       "2    Very costly for the premium version (approx In...\n",
       "3    Used to keep me organized, but all the 2020 UP...\n",
       "4                                  Dan Birthday Oct 28\n",
       "Name: content, dtype: object"
      ]
     },
     "execution_count": 30,
     "metadata": {},
     "output_type": "execute_result"
    }
   ],
   "source": [
    "##2. Converting to LOWER case\n",
    "PS_reviews_data['content'].head()\n",
    "# from below data we can verify that our data has uppercase letters, we will convert our data in lower case"
   ]
  },
  {
   "cell_type": "code",
   "execution_count": 31,
   "id": "30707b88",
   "metadata": {},
   "outputs": [
    {
     "data": {
      "text/html": [
       "<div>\n",
       "<style scoped>\n",
       "    .dataframe tbody tr th:only-of-type {\n",
       "        vertical-align: middle;\n",
       "    }\n",
       "\n",
       "    .dataframe tbody tr th {\n",
       "        vertical-align: top;\n",
       "    }\n",
       "\n",
       "    .dataframe thead th {\n",
       "        text-align: right;\n",
       "    }\n",
       "</style>\n",
       "<table border=\"1\" class=\"dataframe\">\n",
       "  <thead>\n",
       "    <tr style=\"text-align: right;\">\n",
       "      <th></th>\n",
       "      <th>content</th>\n",
       "      <th>new_content</th>\n",
       "    </tr>\n",
       "  </thead>\n",
       "  <tbody>\n",
       "    <tr>\n",
       "      <th>0</th>\n",
       "      <td>I cannot open the app anymore</td>\n",
       "      <td>i cannot open the app anymore</td>\n",
       "    </tr>\n",
       "    <tr>\n",
       "      <th>1</th>\n",
       "      <td>I have been begging for a refund from this app...</td>\n",
       "      <td>i have been begging for a refund from this app...</td>\n",
       "    </tr>\n",
       "    <tr>\n",
       "      <th>2</th>\n",
       "      <td>Very costly for the premium version (approx In...</td>\n",
       "      <td>very costly for the premium version (approx in...</td>\n",
       "    </tr>\n",
       "    <tr>\n",
       "      <th>3</th>\n",
       "      <td>Used to keep me organized, but all the 2020 UP...</td>\n",
       "      <td>used to keep me organized, but all the 2020 up...</td>\n",
       "    </tr>\n",
       "    <tr>\n",
       "      <th>4</th>\n",
       "      <td>Dan Birthday Oct 28</td>\n",
       "      <td>dan birthday oct 28</td>\n",
       "    </tr>\n",
       "  </tbody>\n",
       "</table>\n",
       "</div>"
      ],
      "text/plain": [
       "                                             content  \\\n",
       "0                      I cannot open the app anymore   \n",
       "1  I have been begging for a refund from this app...   \n",
       "2  Very costly for the premium version (approx In...   \n",
       "3  Used to keep me organized, but all the 2020 UP...   \n",
       "4                                Dan Birthday Oct 28   \n",
       "\n",
       "                                         new_content  \n",
       "0                      i cannot open the app anymore  \n",
       "1  i have been begging for a refund from this app...  \n",
       "2  very costly for the premium version (approx in...  \n",
       "3  used to keep me organized, but all the 2020 up...  \n",
       "4                                dan birthday oct 28  "
      ]
     },
     "execution_count": 31,
     "metadata": {},
     "output_type": "execute_result"
    }
   ],
   "source": [
    "PS_reviews_data['new_content'] = PS_reviews_data['content'].apply(lambda x: str(x).lower())\n",
    "PS_reviews_data[['content','new_content']].head()"
   ]
  },
  {
   "cell_type": "code",
   "execution_count": 32,
   "id": "4ea5f55e",
   "metadata": {},
   "outputs": [
    {
     "data": {
      "text/plain": [
       "2    very costly for the premium version (approx in...\n",
       "3    used to keep me organized, but all the 2020 up...\n",
       "4                                  dan birthday oct 28\n",
       "5    it has changed how i viewed my different lists...\n",
       "6    i'm only looking for a grocery list app but ev...\n",
       "Name: new_content, dtype: object"
      ]
     },
     "execution_count": 32,
     "metadata": {},
     "output_type": "execute_result"
    }
   ],
   "source": [
    "### 3. REMOVE NON-ALPHA DATA(DIGITS,PUNCTUATIONS,DIACRITICS)\n",
    "PS_reviews_data.loc[PS_reviews_data['new_content'].str.contains(\"[^a-z\\s]\"),'new_content'].head()\n",
    "\n",
    "# From below data we can notice that there are many rows that has non-aplhabet data"
   ]
  },
  {
   "cell_type": "code",
   "execution_count": 33,
   "id": "54e99bcd",
   "metadata": {},
   "outputs": [
    {
     "data": {
      "text/html": [
       "<div>\n",
       "<style scoped>\n",
       "    .dataframe tbody tr th:only-of-type {\n",
       "        vertical-align: middle;\n",
       "    }\n",
       "\n",
       "    .dataframe tbody tr th {\n",
       "        vertical-align: top;\n",
       "    }\n",
       "\n",
       "    .dataframe thead th {\n",
       "        text-align: right;\n",
       "    }\n",
       "</style>\n",
       "<table border=\"1\" class=\"dataframe\">\n",
       "  <thead>\n",
       "    <tr style=\"text-align: right;\">\n",
       "      <th></th>\n",
       "      <th>content</th>\n",
       "      <th>new_content</th>\n",
       "    </tr>\n",
       "  </thead>\n",
       "  <tbody>\n",
       "    <tr>\n",
       "      <th>0</th>\n",
       "      <td>I cannot open the app anymore</td>\n",
       "      <td>i cannot open the app anymore</td>\n",
       "    </tr>\n",
       "    <tr>\n",
       "      <th>1</th>\n",
       "      <td>I have been begging for a refund from this app...</td>\n",
       "      <td>i have been begging for a refund from this app...</td>\n",
       "    </tr>\n",
       "    <tr>\n",
       "      <th>2</th>\n",
       "      <td>Very costly for the premium version (approx In...</td>\n",
       "      <td>very costly for the premium version  approx in...</td>\n",
       "    </tr>\n",
       "    <tr>\n",
       "      <th>3</th>\n",
       "      <td>Used to keep me organized, but all the 2020 UP...</td>\n",
       "      <td>used to keep me organized  but all the      up...</td>\n",
       "    </tr>\n",
       "    <tr>\n",
       "      <th>4</th>\n",
       "      <td>Dan Birthday Oct 28</td>\n",
       "      <td>dan birthday oct</td>\n",
       "    </tr>\n",
       "  </tbody>\n",
       "</table>\n",
       "</div>"
      ],
      "text/plain": [
       "                                             content  \\\n",
       "0                      I cannot open the app anymore   \n",
       "1  I have been begging for a refund from this app...   \n",
       "2  Very costly for the premium version (approx In...   \n",
       "3  Used to keep me organized, but all the 2020 UP...   \n",
       "4                                Dan Birthday Oct 28   \n",
       "\n",
       "                                         new_content  \n",
       "0                      i cannot open the app anymore  \n",
       "1  i have been begging for a refund from this app...  \n",
       "2  very costly for the premium version  approx in...  \n",
       "3  used to keep me organized  but all the      up...  \n",
       "4                                dan birthday oct     "
      ]
     },
     "execution_count": 33,
     "metadata": {},
     "output_type": "execute_result"
    }
   ],
   "source": [
    "PS_reviews_data['new_content'] = PS_reviews_data['new_content'].str.replace(r'[^a-zA-Z\\s]', ' ') # replacing junk data with space\n",
    "PS_reviews_data[['content','new_content']].head()"
   ]
  },
  {
   "cell_type": "code",
   "execution_count": 34,
   "id": "d179ab7a",
   "metadata": {},
   "outputs": [
    {
     "data": {
      "text/plain": [
       "Series([], Name: new_content, dtype: object)"
      ]
     },
     "execution_count": 34,
     "metadata": {},
     "output_type": "execute_result"
    }
   ],
   "source": [
    "PS_reviews_data.loc[PS_reviews_data['new_content'].str.contains(\"[^a-z\\s]\"),'new_content']\n",
    "# Our data now contains only alphabets"
   ]
  },
  {
   "cell_type": "code",
   "execution_count": 35,
   "id": "5bf371a7",
   "metadata": {},
   "outputs": [
    {
     "data": {
      "text/html": [
       "<style  type=\"text/css\" >\n",
       "#T_f3264_row0_col0,#T_f3264_row0_col1,#T_f3264_row1_col0,#T_f3264_row1_col1,#T_f3264_row2_col0,#T_f3264_row2_col1,#T_f3264_row3_col0,#T_f3264_row3_col1,#T_f3264_row4_col0,#T_f3264_row4_col1{\n",
       "            width:  400px;\n",
       "        }</style><table id=\"T_f3264_\" ><thead>    <tr>        <th class=\"blank level0\" ></th>        <th class=\"col_heading level0 col0\" >content</th>        <th class=\"col_heading level0 col1\" >new_content</th>    </tr></thead><tbody>\n",
       "                <tr>\n",
       "                        <th id=\"T_f3264_level0_row0\" class=\"row_heading level0 row0\" >0</th>\n",
       "                        <td id=\"T_f3264_row0_col0\" class=\"data row0 col0\" >I cannot open the app anymore</td>\n",
       "                        <td id=\"T_f3264_row0_col1\" class=\"data row0 col1\" >i cannot open the app anymore</td>\n",
       "            </tr>\n",
       "            <tr>\n",
       "                        <th id=\"T_f3264_level0_row1\" class=\"row_heading level0 row1\" >1</th>\n",
       "                        <td id=\"T_f3264_row1_col0\" class=\"data row1 col0\" >I have been begging for a refund from this app for over a month and nobody is replying me</td>\n",
       "                        <td id=\"T_f3264_row1_col1\" class=\"data row1 col1\" >i have been begging for a refund from this app for over a month and nobody is replying me</td>\n",
       "            </tr>\n",
       "            <tr>\n",
       "                        <th id=\"T_f3264_level0_row2\" class=\"row_heading level0 row2\" >2</th>\n",
       "                        <td id=\"T_f3264_row2_col0\" class=\"data row2 col0\" >Very costly for the premium version (approx Indian Rupees 910 per year). Better to download the premium version of this app from apkmos website and use it. Microsoft to do list app is far more better.</td>\n",
       "                        <td id=\"T_f3264_row2_col1\" class=\"data row2 col1\" >very costly for the premium version  approx indian rupees     per year   better to download the premium version of this app from apkmos website and use it  microsoft to do list app is far more better </td>\n",
       "            </tr>\n",
       "            <tr>\n",
       "                        <th id=\"T_f3264_level0_row3\" class=\"row_heading level0 row3\" >3</th>\n",
       "                        <td id=\"T_f3264_row3_col0\" class=\"data row3 col0\" >Used to keep me organized, but all the 2020 UPDATES have made a mess of things !!! Y cudn't u leave well enuf alone ??? Guess ur techies feel the need to keep making changes to justify continuing to collect their salary !!! 🤤🤤🤤</td>\n",
       "                        <td id=\"T_f3264_row3_col1\" class=\"data row3 col1\" >used to keep me organized  but all the      updates have made a mess of things     y cudn t u leave well enuf alone     guess ur techies feel the need to keep making changes to justify continuing to collect their salary        </td>\n",
       "            </tr>\n",
       "            <tr>\n",
       "                        <th id=\"T_f3264_level0_row4\" class=\"row_heading level0 row4\" >4</th>\n",
       "                        <td id=\"T_f3264_row4_col0\" class=\"data row4 col0\" >Dan Birthday Oct 28</td>\n",
       "                        <td id=\"T_f3264_row4_col1\" class=\"data row4 col1\" >dan birthday oct   </td>\n",
       "            </tr>\n",
       "    </tbody></table>"
      ],
      "text/plain": [
       "<pandas.io.formats.style.Styler at 0x1b745236a90>"
      ]
     },
     "execution_count": 35,
     "metadata": {},
     "output_type": "execute_result"
    }
   ],
   "source": [
    "PS_reviews_data[['content','new_content']].head().style.set_properties( **{'width': '400px'})"
   ]
  },
  {
   "cell_type": "code",
   "execution_count": 36,
   "id": "9be75501",
   "metadata": {},
   "outputs": [
    {
     "data": {
      "text/plain": [
       "2    very costly for the premium version  approx in...\n",
       "3    used to keep me organized  but all the      up...\n",
       "4                                  dan birthday oct   \n",
       "5    it has changed how i viewed my different lists...\n",
       "6    i m only looking for a grocery list app but ev...\n",
       "Name: new_content, dtype: object"
      ]
     },
     "execution_count": 36,
     "metadata": {},
     "output_type": "execute_result"
    }
   ],
   "source": [
    "###  4. REMOVING WHITE SPACE\n",
    "PS_reviews_data.loc[PS_reviews_data['new_content'].str.contains(\"\\s{2,}\"),'new_content'].head()\n",
    "# From below data we can notice after removing non-alphabet data we have extra spaces(2 or more) in between\n"
   ]
  },
  {
   "cell_type": "code",
   "execution_count": 37,
   "id": "2ec18638",
   "metadata": {},
   "outputs": [],
   "source": [
    "PS_reviews_data['new_content'] = PS_reviews_data['new_content'].str.replace(r'\\s{2,}', ' ')"
   ]
  },
  {
   "cell_type": "code",
   "execution_count": 38,
   "id": "34126da8",
   "metadata": {},
   "outputs": [
    {
     "name": "stderr",
     "output_type": "stream",
     "text": [
      "[nltk_data] Downloading package punkt to\n",
      "[nltk_data]     C:\\Users\\Fasssiiihh\\AppData\\Roaming\\nltk_data...\n",
      "[nltk_data]   Unzipping tokenizers\\punkt.zip.\n"
     ]
    },
    {
     "data": {
      "text/plain": [
       "True"
      ]
     },
     "execution_count": 38,
     "metadata": {},
     "output_type": "execute_result"
    }
   ],
   "source": [
    "### 5. WORD TOKENIZATION\n",
    "from nltk.tokenize import word_tokenize\n",
    "nltk.download('punkt')"
   ]
  },
  {
   "cell_type": "code",
   "execution_count": 39,
   "id": "7ad1e7fb",
   "metadata": {},
   "outputs": [],
   "source": [
    "PS_reviews_data['new_content'] = PS_reviews_data['new_content'].apply(lambda x: word_tokenize(x))"
   ]
  },
  {
   "cell_type": "code",
   "execution_count": 40,
   "id": "e17820b5",
   "metadata": {},
   "outputs": [
    {
     "data": {
      "text/html": [
       "<div>\n",
       "<style scoped>\n",
       "    .dataframe tbody tr th:only-of-type {\n",
       "        vertical-align: middle;\n",
       "    }\n",
       "\n",
       "    .dataframe tbody tr th {\n",
       "        vertical-align: top;\n",
       "    }\n",
       "\n",
       "    .dataframe thead th {\n",
       "        text-align: right;\n",
       "    }\n",
       "</style>\n",
       "<table border=\"1\" class=\"dataframe\">\n",
       "  <thead>\n",
       "    <tr style=\"text-align: right;\">\n",
       "      <th></th>\n",
       "      <th>content</th>\n",
       "      <th>new_content</th>\n",
       "    </tr>\n",
       "  </thead>\n",
       "  <tbody>\n",
       "    <tr>\n",
       "      <th>0</th>\n",
       "      <td>I cannot open the app anymore</td>\n",
       "      <td>[i, can, not, open, the, app, anymore]</td>\n",
       "    </tr>\n",
       "    <tr>\n",
       "      <th>1</th>\n",
       "      <td>I have been begging for a refund from this app...</td>\n",
       "      <td>[i, have, been, begging, for, a, refund, from,...</td>\n",
       "    </tr>\n",
       "    <tr>\n",
       "      <th>2</th>\n",
       "      <td>Very costly for the premium version (approx In...</td>\n",
       "      <td>[very, costly, for, the, premium, version, app...</td>\n",
       "    </tr>\n",
       "    <tr>\n",
       "      <th>3</th>\n",
       "      <td>Used to keep me organized, but all the 2020 UP...</td>\n",
       "      <td>[used, to, keep, me, organized, but, all, the,...</td>\n",
       "    </tr>\n",
       "    <tr>\n",
       "      <th>4</th>\n",
       "      <td>Dan Birthday Oct 28</td>\n",
       "      <td>[dan, birthday, oct]</td>\n",
       "    </tr>\n",
       "  </tbody>\n",
       "</table>\n",
       "</div>"
      ],
      "text/plain": [
       "                                             content  \\\n",
       "0                      I cannot open the app anymore   \n",
       "1  I have been begging for a refund from this app...   \n",
       "2  Very costly for the premium version (approx In...   \n",
       "3  Used to keep me organized, but all the 2020 UP...   \n",
       "4                                Dan Birthday Oct 28   \n",
       "\n",
       "                                         new_content  \n",
       "0             [i, can, not, open, the, app, anymore]  \n",
       "1  [i, have, been, begging, for, a, refund, from,...  \n",
       "2  [very, costly, for, the, premium, version, app...  \n",
       "3  [used, to, keep, me, organized, but, all, the,...  \n",
       "4                               [dan, birthday, oct]  "
      ]
     },
     "execution_count": 40,
     "metadata": {},
     "output_type": "execute_result"
    }
   ],
   "source": [
    "PS_reviews_data[['content','new_content']].head()"
   ]
  },
  {
   "cell_type": "code",
   "execution_count": 41,
   "id": "6856a6de",
   "metadata": {},
   "outputs": [
    {
     "name": "stdout",
     "output_type": "stream",
     "text": [
      "Collecting stopwords\n",
      "  Downloading stopwords-1.0.0-py2.py3-none-any.whl (37 kB)\n",
      "Installing collected packages: stopwords\n",
      "Successfully installed stopwords-1.0.0\n"
     ]
    }
   ],
   "source": [
    "### 6. REMOVE STOP Words\n",
    "!pip install stopwords\n"
   ]
  },
  {
   "cell_type": "code",
   "execution_count": 42,
   "id": "ff8aa393",
   "metadata": {},
   "outputs": [
    {
     "name": "stderr",
     "output_type": "stream",
     "text": [
      "[nltk_data] Downloading package stopwords to\n",
      "[nltk_data]     C:\\Users\\Fasssiiihh\\AppData\\Roaming\\nltk_data...\n",
      "[nltk_data]   Unzipping corpora\\stopwords.zip.\n"
     ]
    },
    {
     "data": {
      "text/plain": [
       "True"
      ]
     },
     "execution_count": 42,
     "metadata": {},
     "output_type": "execute_result"
    }
   ],
   "source": [
    "from nltk.corpus import stopwords\n",
    "nltk.download('stopwords')"
   ]
  },
  {
   "cell_type": "code",
   "execution_count": 43,
   "id": "cbceef01",
   "metadata": {},
   "outputs": [
    {
     "data": {
      "text/plain": [
       "['i',\n",
       " 'me',\n",
       " 'my',\n",
       " 'myself',\n",
       " 'we',\n",
       " 'our',\n",
       " 'ours',\n",
       " 'ourselves',\n",
       " 'you',\n",
       " \"you're\",\n",
       " \"you've\",\n",
       " \"you'll\",\n",
       " \"you'd\",\n",
       " 'your',\n",
       " 'yours',\n",
       " 'yourself',\n",
       " 'yourselves',\n",
       " 'he',\n",
       " 'him',\n",
       " 'his']"
      ]
     },
     "execution_count": 43,
     "metadata": {},
     "output_type": "execute_result"
    }
   ],
   "source": [
    "stopwords.words(\"english\")[:20]"
   ]
  },
  {
   "cell_type": "code",
   "execution_count": 44,
   "id": "fc6b1780",
   "metadata": {},
   "outputs": [],
   "source": [
    "PS_reviews_data['new_content'] = PS_reviews_data.new_content.apply(lambda x: [word for word in x if word not in stopwords.words(\"english\")])"
   ]
  },
  {
   "cell_type": "code",
   "execution_count": 45,
   "id": "b24c9462",
   "metadata": {},
   "outputs": [
    {
     "data": {
      "text/html": [
       "<div>\n",
       "<style scoped>\n",
       "    .dataframe tbody tr th:only-of-type {\n",
       "        vertical-align: middle;\n",
       "    }\n",
       "\n",
       "    .dataframe tbody tr th {\n",
       "        vertical-align: top;\n",
       "    }\n",
       "\n",
       "    .dataframe thead th {\n",
       "        text-align: right;\n",
       "    }\n",
       "</style>\n",
       "<table border=\"1\" class=\"dataframe\">\n",
       "  <thead>\n",
       "    <tr style=\"text-align: right;\">\n",
       "      <th></th>\n",
       "      <th>content</th>\n",
       "      <th>new_content</th>\n",
       "    </tr>\n",
       "  </thead>\n",
       "  <tbody>\n",
       "    <tr>\n",
       "      <th>0</th>\n",
       "      <td>I cannot open the app anymore</td>\n",
       "      <td>[open, app, anymore]</td>\n",
       "    </tr>\n",
       "    <tr>\n",
       "      <th>1</th>\n",
       "      <td>I have been begging for a refund from this app...</td>\n",
       "      <td>[begging, refund, app, month, nobody, replying]</td>\n",
       "    </tr>\n",
       "    <tr>\n",
       "      <th>2</th>\n",
       "      <td>Very costly for the premium version (approx In...</td>\n",
       "      <td>[costly, premium, version, approx, indian, rup...</td>\n",
       "    </tr>\n",
       "    <tr>\n",
       "      <th>3</th>\n",
       "      <td>Used to keep me organized, but all the 2020 UP...</td>\n",
       "      <td>[used, keep, organized, updates, made, mess, t...</td>\n",
       "    </tr>\n",
       "    <tr>\n",
       "      <th>4</th>\n",
       "      <td>Dan Birthday Oct 28</td>\n",
       "      <td>[dan, birthday, oct]</td>\n",
       "    </tr>\n",
       "  </tbody>\n",
       "</table>\n",
       "</div>"
      ],
      "text/plain": [
       "                                             content  \\\n",
       "0                      I cannot open the app anymore   \n",
       "1  I have been begging for a refund from this app...   \n",
       "2  Very costly for the premium version (approx In...   \n",
       "3  Used to keep me organized, but all the 2020 UP...   \n",
       "4                                Dan Birthday Oct 28   \n",
       "\n",
       "                                         new_content  \n",
       "0                               [open, app, anymore]  \n",
       "1    [begging, refund, app, month, nobody, replying]  \n",
       "2  [costly, premium, version, approx, indian, rup...  \n",
       "3  [used, keep, organized, updates, made, mess, t...  \n",
       "4                               [dan, birthday, oct]  "
      ]
     },
     "execution_count": 45,
     "metadata": {},
     "output_type": "execute_result"
    }
   ],
   "source": [
    "PS_reviews_data[['content','new_content']].head() # We have removed the stop words"
   ]
  },
  {
   "cell_type": "code",
   "execution_count": 46,
   "id": "48d7977d",
   "metadata": {},
   "outputs": [
    {
     "data": {
      "text/html": [
       "<div>\n",
       "<style scoped>\n",
       "    .dataframe tbody tr th:only-of-type {\n",
       "        vertical-align: middle;\n",
       "    }\n",
       "\n",
       "    .dataframe tbody tr th {\n",
       "        vertical-align: top;\n",
       "    }\n",
       "\n",
       "    .dataframe thead th {\n",
       "        text-align: right;\n",
       "    }\n",
       "</style>\n",
       "<table border=\"1\" class=\"dataframe\">\n",
       "  <thead>\n",
       "    <tr style=\"text-align: right;\">\n",
       "      <th></th>\n",
       "      <th>content</th>\n",
       "      <th>score</th>\n",
       "      <th>new_score</th>\n",
       "      <th>new_content</th>\n",
       "    </tr>\n",
       "  </thead>\n",
       "  <tbody>\n",
       "    <tr>\n",
       "      <th>19</th>\n",
       "      <td>Do not download</td>\n",
       "      <td>1</td>\n",
       "      <td>0</td>\n",
       "      <td>[download]</td>\n",
       "    </tr>\n",
       "    <tr>\n",
       "      <th>38</th>\n",
       "      <td>Yes i what</td>\n",
       "      <td>1</td>\n",
       "      <td>0</td>\n",
       "      <td>[yes]</td>\n",
       "    </tr>\n",
       "    <tr>\n",
       "      <th>39</th>\n",
       "      <td>Waste</td>\n",
       "      <td>1</td>\n",
       "      <td>0</td>\n",
       "      <td>[waste]</td>\n",
       "    </tr>\n",
       "    <tr>\n",
       "      <th>44</th>\n",
       "      <td>Dindigul</td>\n",
       "      <td>1</td>\n",
       "      <td>0</td>\n",
       "      <td>[dindigul]</td>\n",
       "    </tr>\n",
       "    <tr>\n",
       "      <th>51</th>\n",
       "      <td>good</td>\n",
       "      <td>1</td>\n",
       "      <td>0</td>\n",
       "      <td>[good]</td>\n",
       "    </tr>\n",
       "  </tbody>\n",
       "</table>\n",
       "</div>"
      ],
      "text/plain": [
       "            content  score  new_score new_content\n",
       "19  Do not download      1          0  [download]\n",
       "38       Yes i what      1          0       [yes]\n",
       "39            Waste      1          0     [waste]\n",
       "44         Dindigul      1          0  [dindigul]\n",
       "51             good      1          0      [good]"
      ]
     },
     "execution_count": 46,
     "metadata": {},
     "output_type": "execute_result"
    }
   ],
   "source": [
    "### 7. REMOVE RECORDS THAT HAS 0 OR 1 WORD\n",
    "PS_reviews_data[PS_reviews_data['new_content'].map(lambda x: len(x)) < 2].head()"
   ]
  },
  {
   "cell_type": "code",
   "execution_count": 47,
   "id": "c1a4a56e",
   "metadata": {},
   "outputs": [],
   "source": [
    "PS_reviews_data = PS_reviews_data[PS_reviews_data['new_content'].map(lambda x: len(x)) > 1]"
   ]
  },
  {
   "cell_type": "code",
   "execution_count": 48,
   "id": "b1e2ca3d",
   "metadata": {},
   "outputs": [],
   "source": [
    "##8. REMOVE NON-ALPHABETS WORDS\n",
    "PS_reviews_data['new_content'] = PS_reviews_data['new_content'].apply(lambda x: [word for word in x if word.isalpha()])"
   ]
  },
  {
   "cell_type": "code",
   "execution_count": 49,
   "id": "57b7e728",
   "metadata": {},
   "outputs": [],
   "source": [
    "PS_reviews_data = PS_reviews_data[PS_reviews_data['new_content'].map(lambda x: len(x)) > 1] # Repeating STEP 7"
   ]
  },
  {
   "cell_type": "code",
   "execution_count": 50,
   "id": "3485bbf3",
   "metadata": {},
   "outputs": [
    {
     "name": "stderr",
     "output_type": "stream",
     "text": [
      "[nltk_data] Downloading package wordnet to\n",
      "[nltk_data]     C:\\Users\\Fasssiiihh\\AppData\\Roaming\\nltk_data...\n",
      "[nltk_data]   Unzipping corpora\\wordnet.zip.\n"
     ]
    },
    {
     "data": {
      "text/plain": [
       "True"
      ]
     },
     "execution_count": 50,
     "metadata": {},
     "output_type": "execute_result"
    }
   ],
   "source": [
    "### 9. LEMMATIZATION\n",
    "from nltk.stem import WordNetLemmatizer\n",
    "nltk.download('wordnet')"
   ]
  },
  {
   "cell_type": "code",
   "execution_count": 51,
   "id": "4941dc68",
   "metadata": {},
   "outputs": [],
   "source": [
    "PS_reviews_data['new_content'] = PS_reviews_data['new_content'].apply(lambda x: [WordNetLemmatizer().lemmatize(word) for word in x])"
   ]
  },
  {
   "cell_type": "code",
   "execution_count": 52,
   "id": "d443482a",
   "metadata": {},
   "outputs": [],
   "source": [
    "## 10. TF-IDF\n",
    "from sklearn.feature_extraction.text import TfidfVectorizer"
   ]
  },
  {
   "cell_type": "code",
   "execution_count": 53,
   "id": "02bbfabf",
   "metadata": {},
   "outputs": [],
   "source": [
    "Tfidf_vect = TfidfVectorizer()\n",
    "Train_content_tfidf = Tfidf_vect.fit_transform(PS_reviews_data['new_content'].astype(str))"
   ]
  },
  {
   "cell_type": "code",
   "execution_count": 54,
   "id": "857862a0",
   "metadata": {},
   "outputs": [],
   "source": [
    "# Tfidf_vect.vocabulary_ # To check vocabulary"
   ]
  },
  {
   "cell_type": "code",
   "execution_count": 55,
   "id": "7cf7cdd4",
   "metadata": {},
   "outputs": [
    {
     "name": "stdout",
     "output_type": "stream",
     "text": [
      "  (0, 423)\t0.7442205089144512\n",
      "  (0, 460)\t0.22669775392938943\n",
      "  (0, 5749)\t0.6282865289614965\n",
      "  (1, 7038)\t0.5098928283032067\n",
      "  (1, 5539)\t0.48817466469248405\n",
      "  (1, 5319)\t0.28209699450293924\n",
      "  (1, 6873)\t0.3889691746394387\n",
      "  (1, 840)\t0.5098928283032067\n",
      "  (1, 460)\t0.1040594585562335\n",
      "  (2, 3054)\t0.1552816138599539\n",
      "  (2, 4790)\t0.12551833684747368\n",
      "  (2, 5164)\t0.19362861790089347\n",
      "  (2, 9063)\t0.10762325941713373\n",
      "  (2, 9326)\t0.22763212874017583\n",
      "  (2, 446)\t0.34090539177314033\n",
      "  (2, 2466)\t0.20456173739616854\n",
      "  (2, 889)\t0.2949842500593587\n",
      "  (2, 9539)\t0.14871600765019707\n",
      "  (2, 6041)\t0.21987487712519135\n",
      "  (2, 7285)\t0.3084571742554576\n",
      "  (2, 4204)\t0.32654682678273134\n",
      "  (2, 499)\t0.32654682678273134\n",
      "  (2, 9158)\t0.25409316057974035\n",
      "  (2, 6369)\t0.2747219908829051\n",
      "  (2, 1780)\t0.2839110452767498\n",
      "  (2, 460)\t0.12103712784129549\n"
     ]
    }
   ],
   "source": [
    "print(Train_content_tfidf[:3])"
   ]
  },
  {
   "cell_type": "code",
   "execution_count": 56,
   "id": "8a4de9a3",
   "metadata": {},
   "outputs": [],
   "source": [
    "####    Training ML Models"
   ]
  },
  {
   "cell_type": "code",
   "execution_count": 57,
   "id": "fb98dc9d",
   "metadata": {},
   "outputs": [],
   "source": [
    "from sklearn.linear_model import LogisticRegression\n",
    "from sklearn.tree import DecisionTreeClassifier\n",
    "from sklearn.ensemble import RandomForestClassifier\n",
    "from sklearn.neighbors import KNeighborsClassifier\n",
    "from sklearn.svm import SVC\n",
    "\n",
    "from sklearn.model_selection import StratifiedKFold,cross_val_score"
   ]
  },
  {
   "cell_type": "code",
   "execution_count": 58,
   "id": "98bf2ee0",
   "metadata": {},
   "outputs": [],
   "source": [
    "SKF = StratifiedKFold(n_splits=5, shuffle=True)"
   ]
  },
  {
   "cell_type": "code",
   "execution_count": 59,
   "id": "3f7158e1",
   "metadata": {},
   "outputs": [
    {
     "name": "stdout",
     "output_type": "stream",
     "text": [
      " Accuracy of LogisticRegression  : 78.56%\n",
      " Accuracy of DecisionTreeClassifier  : 68.01%\n",
      " Accuracy of RandomForestClassifier  : 77.04%\n",
      " Accuracy of KNeighborsClassifier  : 72.36%\n",
      " Accuracy of SVC  : 78.92%\n"
     ]
    }
   ],
   "source": [
    "for model in [LogisticRegression(),DecisionTreeClassifier(),RandomForestClassifier(),KNeighborsClassifier(),SVC()]:\n",
    "  model_name = str(model).split('(',1)[0]\n",
    "  print(f' Accuracy of {model_name}  : {round(cross_val_score(model,Train_content_tfidf,PS_reviews_data.new_score,cv=SKF,scoring=\"accuracy\").mean()*100,2)}%')"
   ]
  },
  {
   "cell_type": "code",
   "execution_count": null,
   "id": "53800ec1",
   "metadata": {},
   "outputs": [],
   "source": []
  }
 ],
 "metadata": {
  "kernelspec": {
   "display_name": "Python 3",
   "language": "python",
   "name": "python3"
  },
  "language_info": {
   "codemirror_mode": {
    "name": "ipython",
    "version": 3
   },
   "file_extension": ".py",
   "mimetype": "text/x-python",
   "name": "python",
   "nbconvert_exporter": "python",
   "pygments_lexer": "ipython3",
   "version": "3.8.8"
  }
 },
 "nbformat": 4,
 "nbformat_minor": 5
}
